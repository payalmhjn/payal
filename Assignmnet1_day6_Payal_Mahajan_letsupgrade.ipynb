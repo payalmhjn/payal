{
 "cells": [
  {
   "cell_type": "code",
   "execution_count": 4,
   "metadata": {},
   "outputs": [
    {
     "name": "stdout",
     "output_type": "stream",
     "text": [
      "Welcome to the Deposit & Withdrawal management\n",
      "Enter amount to be Deposited: 500\n",
      "\n",
      " Amount Deposited: 500.0\n",
      "Enter amount to be Withdrawn: 550\n",
      "\n",
      " Insufficient balance  \n",
      "\n",
      " Net Available Balance= 500.0\n"
     ]
    }
   ],
   "source": [
    "class Bank_Account: \n",
    "    \n",
    "    def __init__(self): \n",
    "        self.balance=0\n",
    "        print(\"Welcome to the Deposit & Withdrawal management\") \n",
    "  \n",
    "    def deposit(self): \n",
    "        amount=float(input(\"Enter amount to be Deposited: \")) \n",
    "        self.balance += amount \n",
    "        print(\"\\n Amount Deposited:\",amount) \n",
    "  \n",
    "    def withdraw(self): \n",
    "        amount = float(input(\"Enter amount to be Withdrawn: \")) \n",
    "        if self.balance>=amount: \n",
    "            self.balance-=amount \n",
    "            print(\"\\n You Withdrew:\", amount) \n",
    "        else: \n",
    "            print(\"\\n Insufficient balance \") \n",
    "  \n",
    "    def display(self): \n",
    "        print(\"\\n Net Available Balance=\",self.balance) \n",
    "        \n",
    "s = Bank_Account() \n",
    "s.deposit() \n",
    "s.withdraw() \n",
    "s.display() \n",
    "    "
   ]
  }
 ],
 "metadata": {
  "kernelspec": {
   "display_name": "Python 3",
   "language": "python",
   "name": "python3"
  },
  "language_info": {
   "codemirror_mode": {
    "name": "ipython",
    "version": 3
   },
   "file_extension": ".py",
   "mimetype": "text/x-python",
   "name": "python",
   "nbconvert_exporter": "python",
   "pygments_lexer": "ipython3",
   "version": "3.7.6"
  }
 },
 "nbformat": 4,
 "nbformat_minor": 4
}
