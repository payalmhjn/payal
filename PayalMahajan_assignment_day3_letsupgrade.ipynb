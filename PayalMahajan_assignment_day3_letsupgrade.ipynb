{
 "cells": [
  {
   "cell_type": "markdown",
   "metadata": {},
   "source": [
    "# Assignment 1 Day 3"
   ]
  },
  {
   "cell_type": "code",
   "execution_count": 14,
   "metadata": {},
   "outputs": [
    {
     "name": "stdout",
     "output_type": "stream",
     "text": [
      "bring it back\n"
     ]
    }
   ],
   "source": [
    "#x is the altitude\n",
    "x = 10000\n",
    "\n",
    "if x <= 1000:\n",
    "    print(\"Safe to land\")\n",
    "elif x <5000:\n",
    "    print(\"bring it to 1000\")\n",
    "else:\n",
    "    print(\"bring it back\")"
   ]
  },
  {
   "cell_type": "markdown",
   "metadata": {},
   "source": [
    "# Assignment 2 Day 3"
   ]
  },
  {
   "cell_type": "code",
   "execution_count": 15,
   "metadata": {},
   "outputs": [
    {
     "name": "stdout",
     "output_type": "stream",
     "text": [
      " 2   3   5   7   11   13   17   19   23   29   31   37   41   43   47   53   59   61   67   71   73   79   83   89   97   101   103   107   109   113   127   131   137   139   149   151   157   163   167   173   179   181   191   193   197   199  "
     ]
    }
   ],
   "source": [
    "for n in range (1, 201):\n",
    "    count = 0\n",
    "    for i in range(2, (n//2 + 1)):\n",
    "        if(n % i == 0):\n",
    "            count = count + 1\n",
    "            break\n",
    "\n",
    "    if (count == 0 and n != 1):\n",
    "        print(\" %d\" %n, end = '  ')"
   ]
  }
 ],
 "metadata": {
  "kernelspec": {
   "display_name": "Python 3",
   "language": "python",
   "name": "python3"
  },
  "language_info": {
   "codemirror_mode": {
    "name": "ipython",
    "version": 3
   },
   "file_extension": ".py",
   "mimetype": "text/x-python",
   "name": "python",
   "nbconvert_exporter": "python",
   "pygments_lexer": "ipython3",
   "version": "3.7.6"
  }
 },
 "nbformat": 4,
 "nbformat_minor": 4
}
